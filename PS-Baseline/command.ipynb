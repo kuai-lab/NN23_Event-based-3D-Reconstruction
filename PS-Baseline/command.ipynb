{
 "cells": [
  {
   "cell_type": "code",
   "execution_count": 4,
   "metadata": {},
   "outputs": [],
   "source": [
    "CUDA_VISIBLE_DEVICES=0 python main.py --concat_data --in_img_num 96 --init_lr 0.0001 --save_root data/Training/ --lr_decay 0.9"
   ]
  }
 ],
 "metadata": {
  "kernelspec": {
   "display_name": "e2depth",
   "language": "python",
   "name": "e2dpeth"
  },
  "language_info": {
   "codemirror_mode": {
    "name": "ipython",
    "version": 3
   },
   "file_extension": ".py",
   "mimetype": "text/x-python",
   "name": "python",
   "nbconvert_exporter": "python",
   "pygments_lexer": "ipython3",
   "version": "3.8.11"
  }
 },
 "nbformat": 4,
 "nbformat_minor": 2
}
