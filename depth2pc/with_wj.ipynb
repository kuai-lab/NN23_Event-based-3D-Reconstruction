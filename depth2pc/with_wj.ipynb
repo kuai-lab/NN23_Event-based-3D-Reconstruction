{
 "cells": [
  {
   "cell_type": "code",
   "execution_count": 6,
   "id": "d8dda789",
   "metadata": {},
   "outputs": [],
   "source": [
    "import utility\n",
    "import numpy as np\n",
    "import os\n",
    "import natsort\n",
    "import open3d as o3d\n",
    "import matplotlib.pyplot as plt\n",
    "from mpl_toolkits.mplot3d import Axes3D\n",
    "import math\n",
    "%matplotlib inline"
   ]
  },
  {
   "cell_type": "code",
   "execution_count": 7,
   "id": "07510c21",
   "metadata": {
    "scrolled": true
   },
   "outputs": [
    {
     "name": "stdout",
     "output_type": "stream",
     "text": [
      "['0001.npz', '0002.npz', '0003.npz', '0004.npz', '0005.npz', '0006.npz', '0007.npz', '0008.npz', '0009.npz', '0010.npz', '0011.npz', '0012.npz', '0013.npz', '0014.npz', '0015.npz', '0016.npz', '0017.npz', '0018.npz', '0019.npz', '0020.npz', '0021.npz', '0022.npz', '0023.npz', '0024.npz', '0025.npz', '0026.npz', '0027.npz', '0028.npz', '0029.npz', '0030.npz', '0031.npz', '0032.npz', '0033.npz', '0034.npz', '0035.npz', '0036.npz', '0037.npz', '0038.npz', '0039.npz', '0040.npz', '0041.npz', '0042.npz', '0043.npz', '0044.npz', '0045.npz', '0046.npz', '0047.npz', '0048.npz', '0049.npz', '0050.npz', '0051.npz', '0052.npz', '0053.npz', '0054.npz', '0055.npz', '0056.npz', '0057.npz', '0058.npz', '0059.npz', '0060.npz', '0061.npz', '0062.npz', '0063.npz', '0064.npz', '0065.npz', '0066.npz', '0067.npz', '0068.npz', '0069.npz', '0070.npz', '0071.npz', '0072.npz', '0073.npz', '0074.npz', '0075.npz', '0076.npz', '0077.npz', '0078.npz', '0079.npz', '0080.npz', '0081.npz', '0082.npz', '0083.npz', '0084.npz', '0085.npz', '0086.npz', '0087.npz', '0088.npz', '0089.npz', '0090.npz', '0091.npz', '0092.npz', '0093.npz', '0094.npz', '0095.npz', '0096.npz', '0097.npz', '0098.npz', '0099.npz', '0100.npz']\n",
      "Length of Depth : 100\n"
     ]
    }
   ],
   "source": [
    "path_dir = '/data/blender_data/gpu/'\n",
    "file_list = os.listdir(path_dir)\n",
    "npz_list = []\n",
    "for file_path in file_list:\n",
    "    if os.path.splitext(file_path)[1] == '.npz':\n",
    "        npz_list.append(file_path)\n",
    "npz_list = natsort.natsorted(npz_list)\n",
    "print(npz_list)\n",
    "i_list=[]\n",
    "e_list=[]\n",
    "d_list=[]\n",
    "\n",
    "for npz in npz_list:\n",
    "    i, e, d = utility.npz_data(path_dir+npz)\n",
    "    i_list.append(i)\n",
    "    e[:,3]=(e[:,3]/1000)\n",
    "    e_list.append(e)\n",
    "    d_list.append(d)\n",
    "    \n",
    "    #a = np.load(path_dir+npz)['normal_map']\n",
    "    #plt.show()\n",
    "print('Length of Depth :', len(i_list))"
   ]
  },
  {
   "cell_type": "code",
   "execution_count": 8,
   "id": "edd733bc",
   "metadata": {
    "scrolled": true
   },
   "outputs": [
    {
     "name": "stdout",
     "output_type": "stream",
     "text": [
      "Point Cloud 0 generated\n",
      "Point Cloud 1 generated\n",
      "Point Cloud 2 generated\n",
      "Point Cloud 3 generated\n",
      "Point Cloud 4 generated\n",
      "Point Cloud 5 generated\n",
      "Point Cloud 6 generated\n",
      "Point Cloud 7 generated\n",
      "Point Cloud 8 generated\n",
      "Point Cloud 9 generated\n",
      "Point Cloud 10 generated\n",
      "Point Cloud 11 generated\n",
      "Point Cloud 12 generated\n",
      "Point Cloud 13 generated\n",
      "Point Cloud 14 generated\n",
      "Point Cloud 15 generated\n",
      "Point Cloud 16 generated\n",
      "Point Cloud 17 generated\n",
      "Point Cloud 18 generated\n",
      "Point Cloud 19 generated\n",
      "Point Cloud 20 generated\n",
      "Point Cloud 21 generated\n",
      "Point Cloud 22 generated\n",
      "Point Cloud 23 generated\n",
      "Point Cloud 24 generated\n",
      "Point Cloud 25 generated\n",
      "Point Cloud 26 generated\n",
      "Point Cloud 27 generated\n",
      "Point Cloud 28 generated\n",
      "Point Cloud 29 generated\n",
      "Point Cloud 30 generated\n",
      "Point Cloud 31 generated\n",
      "Point Cloud 32 generated\n",
      "Point Cloud 33 generated\n",
      "Point Cloud 34 generated\n",
      "Point Cloud 35 generated\n",
      "Point Cloud 36 generated\n",
      "Point Cloud 37 generated\n",
      "Point Cloud 38 generated\n",
      "Point Cloud 39 generated\n",
      "Point Cloud 40 generated\n",
      "Point Cloud 41 generated\n",
      "Point Cloud 42 generated\n",
      "Point Cloud 43 generated\n",
      "Point Cloud 44 generated\n",
      "Point Cloud 45 generated\n",
      "Point Cloud 46 generated\n",
      "Point Cloud 47 generated\n",
      "Point Cloud 48 generated\n",
      "Point Cloud 49 generated\n",
      "Point Cloud 50 generated\n",
      "Point Cloud 51 generated\n",
      "Point Cloud 52 generated\n",
      "Point Cloud 53 generated\n",
      "Point Cloud 54 generated\n",
      "Point Cloud 55 generated\n",
      "Point Cloud 56 generated\n",
      "Point Cloud 57 generated\n",
      "Point Cloud 58 generated\n",
      "Point Cloud 59 generated\n",
      "Point Cloud 60 generated\n",
      "Point Cloud 61 generated\n",
      "Point Cloud 62 generated\n",
      "Point Cloud 63 generated\n",
      "Point Cloud 64 generated\n",
      "Point Cloud 65 generated\n",
      "Point Cloud 66 generated\n",
      "Point Cloud 67 generated\n",
      "Point Cloud 68 generated\n",
      "Point Cloud 69 generated\n",
      "Point Cloud 70 generated\n",
      "Point Cloud 71 generated\n",
      "Point Cloud 72 generated\n",
      "Point Cloud 73 generated\n",
      "Point Cloud 74 generated\n",
      "Point Cloud 75 generated\n",
      "Point Cloud 76 generated\n",
      "Point Cloud 77 generated\n",
      "Point Cloud 78 generated\n",
      "Point Cloud 79 generated\n",
      "Point Cloud 80 generated\n",
      "Point Cloud 81 generated\n",
      "Point Cloud 82 generated\n",
      "Point Cloud 83 generated\n",
      "Point Cloud 84 generated\n",
      "Point Cloud 85 generated\n",
      "Point Cloud 86 generated\n",
      "Point Cloud 87 generated\n",
      "Point Cloud 88 generated\n",
      "Point Cloud 89 generated\n",
      "Point Cloud 90 generated\n",
      "Point Cloud 91 generated\n",
      "Point Cloud 92 generated\n",
      "Point Cloud 93 generated\n",
      "Point Cloud 94 generated\n",
      "Point Cloud 95 generated\n",
      "Point Cloud 96 generated\n",
      "Point Cloud 97 generated\n",
      "Point Cloud 98 generated\n",
      "Point Cloud 99 generated\n"
     ]
    }
   ],
   "source": [
    "point_cloud_list = []\n",
    "result = []\n",
    "\n",
    "for i in range(len(d_list)):\n",
    "    A = utility.generate_pointcloud(d_list[i], i_list[i], e_list[i], 1000)\n",
    "\n",
    "    if len(result) != 0: result = np.vstack((A, result))\n",
    "    else: result = A\n",
    "\n",
    "    print('Point Cloud %d generated' %i)"
   ]
  },
  {
   "cell_type": "code",
   "execution_count": 9,
   "id": "bd422e4f",
   "metadata": {},
   "outputs": [
    {
     "data": {
      "text/plain": [
       "(668734, 3)"
      ]
     },
     "execution_count": 9,
     "metadata": {},
     "output_type": "execute_result"
    }
   ],
   "source": [
    "result.shape"
   ]
  },
  {
   "cell_type": "markdown",
   "id": "b2266398",
   "metadata": {},
   "source": [
    "### ply 파일 저장"
   ]
  },
  {
   "cell_type": "code",
   "execution_count": 10,
   "id": "a6c052e2",
   "metadata": {},
   "outputs": [
    {
     "data": {
      "text/plain": [
       "True"
      ]
     },
     "execution_count": 10,
     "metadata": {},
     "output_type": "execute_result"
    }
   ],
   "source": [
    "ze = np.vstack(result)\n",
    "pcd = o3d.geometry.PointCloud()\n",
    "pcd.points = o3d.utility.Vector3dVector(ze)\n",
    "o3d.io.write_point_cloud(\"./ze.ply\", pcd)"
   ]
  }
 ],
 "metadata": {
  "kernelspec": {
   "display_name": "Python 3",
   "language": "python",
   "name": "python3"
  },
  "language_info": {
   "codemirror_mode": {
    "name": "ipython",
    "version": 3
   },
   "file_extension": ".py",
   "mimetype": "text/x-python",
   "name": "python",
   "nbconvert_exporter": "python",
   "pygments_lexer": "ipython3",
   "version": "3.8.8"
  }
 },
 "nbformat": 4,
 "nbformat_minor": 5
}
