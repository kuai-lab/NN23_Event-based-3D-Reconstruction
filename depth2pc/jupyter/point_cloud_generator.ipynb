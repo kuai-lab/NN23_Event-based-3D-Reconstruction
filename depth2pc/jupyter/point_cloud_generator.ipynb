{
 "cells": [
  {
   "cell_type": "markdown",
   "id": "06d8de8c",
   "metadata": {},
   "source": [
    "### Import dependency"
   ]
  },
  {
   "cell_type": "code",
   "execution_count": 1,
   "id": "ed7387c7",
   "metadata": {},
   "outputs": [
    {
     "name": "stdout",
     "output_type": "stream",
     "text": [
      "Jupyter environment detected. Enabling Open3D WebVisualizer.\n",
      "[Open3D INFO] WebRTC GUI backend enabled.\n",
      "[Open3D INFO] WebRTCWindowSystem: HTTP handshake server disabled.\n"
     ]
    }
   ],
   "source": [
    "import os\n",
    "os.chdir('../')\n",
    "\n",
    "import numpy as np\n",
    "from tqdm import tqdm\n",
    "\n",
    "# pip install natsort\n",
    "import natsort # for index sorting\n",
    "\n",
    "# pip install open3d\n",
    "import open3d as o3d # for 3D Point cloud save & visualization\n",
    "\n",
    "# should be located with same directory\n",
    "from util.utility import npz_data, generate_pointcloud\n",
    "\n",
    "%matplotlib inline"
   ]
  },
  {
   "cell_type": "code",
   "execution_count": 2,
   "id": "d3f82723",
   "metadata": {},
   "outputs": [
    {
     "name": "stdout",
     "output_type": "stream",
     "text": [
      "/home/cvlab/Desktop/Event-based-3D-Reconstruction/depth2pc\r\n"
     ]
    }
   ],
   "source": [
    "!pwd"
   ]
  },
  {
   "cell_type": "markdown",
   "id": "0ff2efb1",
   "metadata": {},
   "source": [
    "### Load Depth map, Camara Parameter "
   ]
  },
  {
   "cell_type": "code",
   "execution_count": 3,
   "id": "7cd64a5f",
   "metadata": {
    "scrolled": true
   },
   "outputs": [
    {
     "name": "stdout",
     "output_type": "stream",
     "text": [
      "Ascending sorted by natsort.\n",
      "['0001.npz', '0002.npz', '0003.npz', '0004.npz', '0005.npz', '0006.npz', '0007.npz', '0008.npz', '0009.npz', '0010.npz', '0011.npz', '0012.npz', '0013.npz', '0014.npz', '0015.npz', '0016.npz', '0017.npz', '0018.npz', '0019.npz', '0020.npz', '0021.npz', '0022.npz', '0023.npz', '0024.npz', '0025.npz', '0026.npz', '0027.npz', '0028.npz', '0029.npz', '0030.npz', '0031.npz', '0032.npz', '0033.npz', '0034.npz', '0035.npz', '0036.npz', '0037.npz', '0038.npz', '0039.npz', '0040.npz', '0041.npz', '0042.npz', '0043.npz', '0044.npz', '0045.npz', '0046.npz', '0047.npz', '0048.npz', '0049.npz', '0050.npz', '0051.npz', '0052.npz', '0053.npz', '0054.npz', '0055.npz', '0056.npz', '0057.npz', '0058.npz', '0059.npz', '0060.npz', '0061.npz', '0062.npz', '0063.npz', '0064.npz', '0065.npz', '0066.npz', '0067.npz', '0068.npz', '0069.npz', '0070.npz', '0071.npz', '0072.npz', '0073.npz', '0074.npz', '0075.npz', '0076.npz', '0077.npz', '0078.npz', '0079.npz', '0080.npz', '0081.npz', '0082.npz', '0083.npz', '0084.npz', '0085.npz', '0086.npz', '0087.npz', '0088.npz', '0089.npz', '0090.npz', '0091.npz', '0092.npz', '0093.npz', '0094.npz', '0095.npz', '0096.npz', '0097.npz', '0098.npz', '0099.npz', '0100.npz']\n"
     ]
    }
   ],
   "source": [
    "# PATH that contains *.npz files including camera parameters and depth map, etc.\n",
    "path_dir = './data/circle/'\n",
    "file_list = os.listdir(path_dir)\n",
    "npz_list = []\n",
    "for file_path in file_list:\n",
    "    if os.path.splitext(file_path)[1] == '.npz':\n",
    "        npz_list.append(file_path)\n",
    "\n",
    "# Ascending sort\n",
    "npz_list = natsort.natsorted(npz_list)\n",
    "print('Ascending sorted by natsort.')\n",
    "print(npz_list)\n",
    "\n",
    "\n",
    "i_list=[] # List for virtual camera's intrinsic parameter\n",
    "e_list=[] # List for virtual camera's extrinsic parameter with each frames\n",
    "d_list=[] # List for virtual camera's depth map with each frames\n",
    "\n",
    "### Extracting *.npz \n",
    "for npz in npz_list:\n",
    "    i, e, d = npz_data(path_dir+npz)\n",
    "    i_list.append(i)\n",
    "    e[:,3]=(e[:,3]/1000)\n",
    "    e_list.append(e)\n",
    "    d_list.append(d)"
   ]
  },
  {
   "cell_type": "markdown",
   "id": "223a5b3a",
   "metadata": {},
   "source": [
    "### Generate point cloud"
   ]
  },
  {
   "cell_type": "code",
   "execution_count": 4,
   "id": "6d65ff81",
   "metadata": {
    "scrolled": true
   },
   "outputs": [
    {
     "name": "stdout",
     "output_type": "stream",
     "text": [
      "Generate point cloud with 100 input depth maps.\n"
     ]
    },
    {
     "name": "stderr",
     "output_type": "stream",
     "text": [
      "100%|██████████| 100/100 [00:09<00:00, 10.62it/s]"
     ]
    },
    {
     "name": "stdout",
     "output_type": "stream",
     "text": [
      "Point cloud generated with 1167620 vertices.\n"
     ]
    },
    {
     "name": "stderr",
     "output_type": "stream",
     "text": [
      "\n"
     ]
    }
   ],
   "source": [
    "result = []\n",
    "\n",
    "print('Generate point cloud with %d input depth maps.' %(len(i_list)))\n",
    "for i in tqdm(range(len(d_list))):\n",
    "    # Read depth map, camera parameters\n",
    "    # Generate point cloud with depth map, intrinsic parameters\n",
    "    # Registrate point cloud by calculating of extrinsic parameters\n",
    "    A = generate_pointcloud(d_list[i], i_list[i], e_list[i], 1000)\n",
    "\n",
    "    if len(result) != 0: \n",
    "        result = np.vstack((A, result))\n",
    "    else: \n",
    "        result = A\n",
    "\n",
    "print('Point cloud generated with %d vertices.' %(len(result)))"
   ]
  },
  {
   "cell_type": "markdown",
   "id": "c0bd0865",
   "metadata": {},
   "source": [
    "### Extract point cloud with ply format"
   ]
  },
  {
   "cell_type": "code",
   "execution_count": 6,
   "id": "cc44200c",
   "metadata": {},
   "outputs": [
    {
     "name": "stdout",
     "output_type": "stream",
     "text": [
      "point_cloud.ply successfully stored.\n"
     ]
    }
   ],
   "source": [
    "pcd_np = np.vstack(result)\n",
    "pcd = o3d.geometry.PointCloud()\n",
    "pcd.points = o3d.utility.Vector3dVector(pcd_np)\n",
    "\n",
    "# You can set your output_path and file name\n",
    "output_path = \"./output/\"\n",
    "file_name = \"point_cloud.ply\"\n",
    "o3d.io.write_point_cloud(output_path + file_name, pcd)\n",
    "print(\"%s successfully stored.\" %file_name)"
   ]
  }
 ],
 "metadata": {
  "interpreter": {
   "hash": "aaa1d5eaced925137d9ddc07d284e5ce2498e73e0ee7ccbb0d0e063eb8ee9661"
  },
  "kernelspec": {
   "display_name": "Python 3",
   "language": "python",
   "name": "python3"
  },
  "language_info": {
   "codemirror_mode": {
    "name": "ipython",
    "version": 3
   },
   "file_extension": ".py",
   "mimetype": "text/x-python",
   "name": "python",
   "nbconvert_exporter": "python",
   "pygments_lexer": "ipython3",
   "version": "3.8.10"
  }
 },
 "nbformat": 4,
 "nbformat_minor": 5
}
