{
 "cells": [
  {
   "cell_type": "code",
   "execution_count": 40,
   "id": "fedcca57",
   "metadata": {},
   "outputs": [],
   "source": [
"import cv2\n",
"import glob\n",
"import re\n",
"import natsort\n",
"\n",
"img_array = []\n",
"file_list = natsort.natsorted(glob.glob('/data/blender_data/gpu/*.png'))\n",
"height, width, layers = cv2.imread(file_list[0]).shape\n",
"size = (width,height)\n",
"out = cv2.VideoWriter('video.avi',cv2.VideoWriter_fourcc(*'XVID'), 480, size)\n",
"\n",
"for filename in file_list:\n",
"    img = cv2.imread(filename)\n",
"    height, width, layers = img.shape\n",
"    out.write(img)\n",
"\n",
"out.release()\n",
"\n",
   ]
  }
 ],
 "metadata": {
  "kernelspec": {
   "display_name": "Python 3",
   "language": "python",
   "name": "python3"
  },
  "language_info": {
   "codemirror_mode": {
    "name": "ipython",
    "version": 3
   },
   "file_extension": ".py",
   "mimetype": "text/x-python",
   "name": "python",
   "nbconvert_exporter": "python",
   "pygments_lexer": "ipython3",
   "version": "3.8.10"
  }
 },
 "nbformat": 4,
 "nbformat_minor": 5
}
